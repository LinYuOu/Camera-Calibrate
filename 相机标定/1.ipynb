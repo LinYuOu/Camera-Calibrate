{
 "cells": [
  {
   "cell_type": "markdown",
   "metadata": {},
   "source": [
    "# 仿射变换"
   ]
  },
  {
   "cell_type": "code",
   "execution_count": 4,
   "metadata": {},
   "outputs": [],
   "source": [
    "import cv2\n",
    "import glob\n",
    "import numpy as np\n",
    "import matplotlib.pyplot as plt\n",
    "\n",
    "def affine_transform(theta, tx, ty):\n",
    "    cos_theta = np.cos(theta)\n",
    "    sin_theta = np.sin(theta)\n",
    "\n",
    "    T = np.array([[cos_theta, -sin_theta, tx],\n",
    "                  [sin_theta, cos_theta, ty],\n",
    "                  [0, 0, 1]])\n",
    "\n",
    "    return T\n",
    "\n",
    "# 读取图像\n",
    "image = cv2.imread(f'./photos/photo0.jpg')\n",
    "image = cv2.resize(image,(900,900))\n",
    "\n",
    "# 定义旋转角度和平移向量\n",
    "rotation_angle = np.radians(np.pi * 0.25)\n",
    "translation_vector = np.array([500,0])  # 举例的平移向量\n",
    "\n",
    "# 获取仿射变换矩阵\n",
    "T = affine_transform(rotation_angle, *translation_vector)\n",
    "\n",
    "# 应用仿射变换\n",
    "rows, cols, _ = image.shape\n",
    "transformed_image = cv2.warpAffine(image, T[:2, :], (cols, rows))\n",
    "\n",
    "# 显示原始图像和变换后的图像\n",
    "# plt.s"
   ]
  },
  {
   "cell_type": "markdown",
   "metadata": {},
   "source": [
    "# 标定相机内参"
   ]
  },
  {
   "cell_type": "code",
   "execution_count": 2,
   "metadata": {},
   "outputs": [
    {
     "name": "stdout",
     "output_type": "stream",
     "text": [
      "['./photos\\\\photo0.jpg', './photos\\\\photo1.jpg', './photos\\\\photo10.jpg', './photos\\\\photo11.jpg', './photos\\\\photo12.jpg', './photos\\\\photo13.jpg', './photos\\\\photo14.jpg', './photos\\\\photo15.jpg', './photos\\\\photo16.jpg', './photos\\\\photo17.jpg', './photos\\\\photo18.jpg', './photos\\\\photo19.jpg', './photos\\\\photo2.jpg', './photos\\\\photo20.jpg', './photos\\\\photo21.jpg', './photos\\\\photo22.jpg', './photos\\\\photo23.jpg', './photos\\\\photo24.jpg', './photos\\\\photo25.jpg', './photos\\\\photo26.jpg', './photos\\\\photo27.jpg', './photos\\\\photo3.jpg', './photos\\\\photo4.jpg', './photos\\\\photo5.jpg', './photos\\\\photo6.jpg', './photos\\\\photo7.jpg', './photos\\\\photo8.jpg', './photos\\\\photo9.jpg']\n",
      "相机内参矩阵:\n",
      "[[614.58492257   0.         285.93832281]\n",
      " [  0.         627.17530595 243.47507507]\n",
      " [  0.           0.           1.        ]]\n",
      "\n",
      "畸变系数:\n",
      "[[-0.01908289  0.5028662  -0.01322444 -0.00695192 -1.15783511]]\n"
     ]
    }
   ],
   "source": [
    "# 标定相机内参\n",
    "import glob\n",
    "import numpy as np\n",
    "import cv2\n",
    "\n",
    "# 棋盘格的尺寸（内角点之间的距离）\n",
    "square_size = 100  # 单位：毫米\n",
    "\n",
    "# 棋盘格的行和列数\n",
    "pattern_size = (9,6)\n",
    "\n",
    "# 存储棋盘格角点的数组\n",
    "obj_points = []\n",
    "img_points = []\n",
    "\n",
    "# 生成棋盘格中的理论角点坐标\n",
    "objp = np.zeros((pattern_size[0] * pattern_size[1], 3), np.float32)\n",
    "objp[:, :2] = np.mgrid[0:pattern_size[0], 0:pattern_size[1]].T.reshape(-1, 2) * square_size\n",
    "\n",
    "# 获取图像\n",
    "images = glob.glob(f'./photos//photo*.jpg')\n",
    "print(images)\n",
    "\n",
    "for fname in images:\n",
    "    img = cv2.imread(fname)\n",
    "    gray = cv2.cvtColor(img, cv2.COLOR_BGR2GRAY)\n",
    "\n",
    "    # 查找棋盘格角点\n",
    "    ret, corners = cv2.findChessboardCorners(gray, pattern_size, None)\n",
    "\n",
    "    if ret:\n",
    "        obj_points.append(objp)\n",
    "        img_points.append(corners)\n",
    "\n",
    "        # 在图像上绘制角点\n",
    "        img = cv2.drawChessboardCorners(img, pattern_size, corners, ret)\n",
    "        cv2.imshow(f\"{fname}\",img)\n",
    "\n",
    "# cv2.waitKey(0)\n",
    "# cv2.destroyAllWindows()\n",
    "\n",
    "# 进行相机内参标定\n",
    "ret, mtx, dist, rvecs, tvecs = cv2.calibrateCamera(obj_points, img_points, gray.shape[::-1], None, None)\n",
    "\n",
    "# 打印相机内参\n",
    "print(\"相机内参矩阵:\")\n",
    "print(mtx)\n",
    "print(\"\\n畸变系数:\")\n",
    "print(dist)\n",
    "\n",
    "\n"
   ]
  },
  {
   "cell_type": "code",
   "execution_count": 3,
   "metadata": {},
   "outputs": [
    {
     "data": {
      "text/plain": [
       "28"
      ]
     },
     "execution_count": 3,
     "metadata": {},
     "output_type": "execute_result"
    }
   ],
   "source": [
    "len(images)"
   ]
  },
  {
   "cell_type": "code",
   "execution_count": 4,
   "metadata": {},
   "outputs": [
    {
     "data": {
      "text/plain": [
       "28"
      ]
     },
     "execution_count": 4,
     "metadata": {},
     "output_type": "execute_result"
    }
   ],
   "source": [
    "len(img_points)"
   ]
  },
  {
   "cell_type": "markdown",
   "metadata": {},
   "source": [
    "# 提取一张图像的世界坐标 P1 [x, y, z, 1] 与 像素坐标 P2 [u ,v ,1] ，从而计算外参"
   ]
  },
  {
   "cell_type": "code",
   "execution_count": 1,
   "metadata": {},
   "outputs": [],
   "source": [
    "from matplotlib import pyplot as plt\n",
    "import numpy as np\n",
    "import cv2\n",
    "import glob\n",
    "\n",
    "focal_length_x, principal_point_x, focal_length_y, principal_point_y = 614.58492257      , 285.93832281, 627.17530595 , 243.47507507\n",
    "mtx = np.array([[focal_length_x, 0, principal_point_x],\n",
    "                [0, focal_length_y, principal_point_y],\n",
    "                [0, 0, 1]], \n",
    "                dtype=np.float64)\n",
    "k1, k2, p1, p2, k3 = -0.01908289,  0.5028662,  -0.0132244, -0.00695192, -1.15783511\n",
    "dist = np.array([k1, k2, p1, p2, k3], dtype=np.float64)\n",
    "\n",
    "# 棋盘格的尺寸（内角点之间的距离）\n",
    "square_size = 100  # 单位：毫米\n",
    "# 棋盘格的行和列数\n",
    "pattern_size = (9,6)\n",
    "\n",
    "path = 'photos/photo0.jpg'\n",
    "# 生成棋盘格中的理论角点坐标\n",
    "obj_point = np.zeros((pattern_size[0] * pattern_size[1], 3), np.float32)\n",
    "obj_point[:, :2] = np.mgrid[0:pattern_size[0], 0:pattern_size[1]].T.reshape(-1, 2) * square_size\n",
    "img = cv2.imread(path)\n",
    "undistorted_img = cv2.undistort(img, mtx, dist)\n",
    "_, undistorted_img_point = cv2.findChessboardCorners(undistorted_img, pattern_size)\n",
    "_, img_point = cv2.findChessboardCorners(img, pattern_size)"
   ]
  },
  {
   "cell_type": "code",
   "execution_count": 10,
   "metadata": {},
   "outputs": [
    {
     "data": {
      "image/png": "[encoded data removed]",
      "text/plain": [
       "<Figure size 1200x300 with 3 Axes>"
      ]
     },
     "metadata": {},
     "output_type": "display_data"
    }
   ],
   "source": [
    "img_point = np.squeeze(img_point)\n",
    "obj_points = np.squeeze(obj_point)\n",
    "undistorted_img_point = np.squeeze(undistorted_img_point)\n",
    "n_points = pattern_size[0] * pattern_size[1]\n",
    "fig, axs = plt.subplots(1, 3, figsize=(12,3))\n",
    "axs[0].scatter(obj_point[:n_points,0], obj_point[:n_points,1])\n",
    "axs[1].scatter(img_point[:n_points,0], img_point[:n_points,1])\n",
    "axs[2].scatter(undistorted_img_point[:n_points,0], undistorted_img_point[:n_points,1])\n",
    "plt.show()"
   ]
  },
  {
   "cell_type": "markdown",
   "metadata": {},
   "source": [
    "### R 9个参数 的计算 1"
   ]
  },
  {
   "cell_type": "code",
   "execution_count": 44,
   "metadata": {},
   "outputs": [
    {
     "name": "stdout",
     "output_type": "stream",
     "text": [
      "优化后的 R:\n",
      " [[-3.47370342e-06 -1.51245053e-05  0.00000000e+00]\n",
      " [ 1.16364771e-05 -1.74033996e-06  0.00000000e+00]\n",
      " [-1.94996706e-20  1.48347849e-20  1.00000000e+00]]\n",
      "优化后的 t:\n",
      " [[ 0.00719241]\n",
      " [-0.00630987]\n",
      " [ 0.02250469]]\n"
     ]
    }
   ],
   "source": [
    "import numpy as np\n",
    "from scipy.optimize import least_squares\n",
    "\n",
    "# 已知的矩阵和向量\n",
    "focal_length_x, principal_point_x, focal_length_y, principal_point_y = 614.58492257      , 285.93832281, 627.17530595 , 243.47507507\n",
    "M1 = np.array([[focal_length_x, 0, principal_point_x],\n",
    "                [0, focal_length_y, principal_point_y],\n",
    "                [0, 0, 1]], \n",
    "                dtype=np.float64)\n",
    "\n",
    "''' \n",
    "畸变参数\n",
    "'''\n",
    "k1, k2, p1, p2, k3 = -0.01908289,  0.5028662,  -0.0132244, -0.00695192, -1.15783511\n",
    "dist = np.array([k1, k2, p1, p2, k3], dtype=np.float64)\n",
    "\n",
    "import numpy as np\n",
    "from scipy.optimize import least_squares\n",
    "\n",
    "# 初始估计的 R 和 t\n",
    "initial_R = np.eye(3)  # 初始估计为单位矩阵\n",
    "initial_t = np.zeros((3, 1))  # 初始估计为零向量\n",
    "\n",
    "P1_homo = np.hstack((img_point, np.ones((img_point.shape[0], 1))))\n",
    "# 优化目标函数\n",
    "def objective(params):\n",
    "    # 提取旋转矩阵 R 和平移向量 t\n",
    "    R = params[:9].reshape(3, 3)\n",
    "    t = params[9:].reshape(3, 1)\n",
    "\n",
    "    # 相机坐标转换\n",
    "    camera_points = np.dot(R, obj_point.T).T + t.T\n",
    "\n",
    "    # 投影到像素坐标系\n",
    "    pixel_points_homogeneous = np.dot(M1, camera_points.T)\n",
    "    pixel_points_homogeneous /= (pixel_points_homogeneous[2, :] ) + 1e-7\n",
    "\n",
    "    # 计算残差\n",
    "    residuals = (pixel_points_homogeneous[:, :].T - P1_homo).flatten()\n",
    "    # residuals = (pixel_points_homogeneous[:2, :].T - img_point).flatten()\n",
    "    # print(residuals)\n",
    "\n",
    "    return residuals\n",
    "\n",
    "# 将 R 和 t 展平，用于传递给 least_squares\n",
    "initial_params = np.hstack((initial_R.flatten(), initial_t.flatten()))\n",
    "\n",
    "# 使用 Levenberg-Marquardt 最小二乘法进行优化\n",
    "result = least_squares(objective, initial_params, method='lm')\n",
    "\n",
    "# 提取优化后的 R 和 t\n",
    "optimized_R = result.x[:9].reshape(3, 3)\n",
    "optimized_t = result.x[9:].reshape(3, 1)\n",
    "\n",
    "print(\"优化后的 R:\\n\", optimized_R)\n",
    "print(\"优化后的 t:\\n\", optimized_t)"
   ]
  },
  {
   "cell_type": "markdown",
   "metadata": {},
   "source": [
    "#### 可视化结果"
   ]
  },
  {
   "cell_type": "code",
   "execution_count": 46,
   "metadata": {},
   "outputs": [
    {
     "data": {
      "image/png": "[encoded data removed]",
      "text/plain": [
       "<Figure size 800x300 with 2 Axes>"
      ]
     },
     "metadata": {},
     "output_type": "display_data"
    }
   ],
   "source": [
    "# 相机坐标转换\n",
    "camera_points = np.dot(optimized_R, obj_point.T).T + optimized_t.T\n",
    "\n",
    "# 投影到像素坐标系\n",
    "P2_pred = np.dot(M1, camera_points.T).T\n",
    "for i in range(len(P2_pred)):\n",
    "    P2_pred[i][0] /= P2_pred[i][2]\n",
    "    P2_pred[i][1] /= P2_pred[i][2]\n",
    "fig, axs = plt.subplots(1, 2, figsize=(8,3))\n",
    "axs[0].scatter(P2_pred[:,0],P2_pred[:,1])\n",
    "axs[0].set_title('predict')\n",
    "axs[1].scatter(img_point[:n_points,0], img_point[:n_points,1])\n",
    "axs[1].set_title('true')\n",
    "plt.show()"
   ]
  },
  {
   "cell_type": "markdown",
   "metadata": {},
   "source": [
    "### R 9个参数 的计算 2"
   ]
  },
  {
   "cell_type": "code",
   "execution_count": 49,
   "metadata": {},
   "outputs": [
    {
     "name": "stdout",
     "output_type": "stream",
     "text": [
      "优化后的 R:\n",
      " [[-1.10135798 -3.84165476  0.        ]\n",
      " [ 3.22630072 -0.54026589  0.        ]\n",
      " [-2.09930132  1.08502159  0.        ]]\n",
      "优化后的 t:\n",
      " [[ 1932.60447104]\n",
      " [-1778.75425501]\n",
      " [ 6476.57547412]]\n"
     ]
    }
   ],
   "source": [
    "import numpy as np\n",
    "from scipy.optimize import least_squares\n",
    "\n",
    "# 已知的矩阵和向量\n",
    "focal_length_x, principal_point_x, focal_length_y, principal_point_y = 614.58492257      , 285.93832281, 627.17530595 , 243.47507507\n",
    "M1 = np.array([[focal_length_x, 0, principal_point_x],\n",
    "                [0, focal_length_y, principal_point_y],\n",
    "                [0, 0, 1]], \n",
    "                dtype=np.float64)\n",
    "\n",
    "''' \n",
    "畸变参数\n",
    "'''\n",
    "k1, k2, p1, p2, k3 = -0.01908289,  0.5028662,  -0.0132244, -0.00695192, -1.15783511\n",
    "dist = np.array([k1, k2, p1, p2, k3], dtype=np.float64)\n",
    "\n",
    "import numpy as np\n",
    "from scipy.optimize import least_squares\n",
    "\n",
    "# 初始估计的 R 和 t\n",
    "initial_R = np.zeros((3, 3))  # 初始估计为 0 矩阵\n",
    "# initial_R = np.eye(3)\n",
    "initial_t = np.zeros((3, 1))  # 初始估计为零向量\n",
    "\n",
    "P1_homo = np.hstack((img_point, np.ones((img_point.shape[0], 1))))\n",
    "# 优化目标函数\n",
    "def objective(params):\n",
    "    # 提取旋转矩阵 R 和平移向量 t\n",
    "    R = params[:9].reshape(3, 3)\n",
    "    t = params[9:].reshape(3, 1)\n",
    "\n",
    "    # 相机坐标转换\n",
    "    camera_points = np.dot(R, obj_point.T).T + t.T\n",
    "\n",
    "    # 投影到像素坐标系\n",
    "    pixel_points_homogeneous = np.dot(M1, camera_points.T)\n",
    "    pixel_points_homogeneous /= (pixel_points_homogeneous[2, :] ) + 1\n",
    "\n",
    "    # 计算残差\n",
    "    residuals = (pixel_points_homogeneous[:, :].T - P1_homo).flatten()\n",
    "    # print(residuals)\n",
    "\n",
    "    return residuals\n",
    "\n",
    "# 将 R 和 t 展平，用于传递给 least_squares\n",
    "initial_params = np.hstack((initial_R.flatten(), initial_t.flatten()))\n",
    "\n",
    "# 使用 Levenberg-Marquardt 最小二乘法进行优化\n",
    "result = least_squares(objective, initial_params, method='lm')\n",
    "\n",
    "# 提取优化后的 R 和 t\n",
    "optimized_R = result.x[:9].reshape(3, 3)\n",
    "optimized_t = result.x[9:].reshape(3, 1)\n",
    "\n",
    "print(\"优化后的 R:\\n\", optimized_R)\n",
    "print(\"优化后的 t:\\n\", optimized_t)"
   ]
  },
  {
   "cell_type": "code",
   "execution_count": 50,
   "metadata": {},
   "outputs": [
    {
     "data": {
      "image/png": "[encoded data removed]",
      "text/plain": [
       "<Figure size 800x300 with 2 Axes>"
      ]
     },
     "metadata": {},
     "output_type": "display_data"
    }
   ],
   "source": [
    "# 相机坐标转换\n",
    "camera_points = np.dot(optimized_R, obj_point.T).T + optimized_t.T\n",
    "\n",
    "# 投影到像素坐标系\n",
    "P2_pred = np.dot(M1, camera_points.T).T\n",
    "for i in range(len(P2_pred)):\n",
    "    P2_pred[i][0] /= P2_pred[i][2]\n",
    "    P2_pred[i][1] /= P2_pred[i][2]\n",
    "\n",
    "fig, axs = plt.subplots(1, 2, figsize=(8,3))\n",
    "axs[0].scatter(P2_pred[:,0],P2_pred[:,1])\n",
    "axs[1].scatter(img_point[:n_points,0], img_point[:n_points,1])\n",
    "plt.show()"
   ]
  },
  {
   "cell_type": "code",
   "execution_count": 171,
   "metadata": {},
   "outputs": [
    {
     "name": "stdout",
     "output_type": "stream",
     "text": [
      "(3, 3) (3, 4) (54, 3)\n"
     ]
    },
    {
     "ename": "ValueError",
     "evalue": "matmul: Input operand 1 has a mismatch in its core dimension 0, with gufunc signature (n?,k),(k,m?)->(n?,m?) (size 3 is different from 4)",
     "output_type": "error",
     "traceback": [
      "\u001b[1;31m---------------------------------------------------------------------------\u001b[0m",
      "\u001b[1;31mValueError\u001b[0m                                Traceback (most recent call last)",
      "\u001b[1;32me:\\projects\\python\\calibrating-master\\1.ipynb Cell 17\u001b[0m line \u001b[0;36m4\n\u001b[0;32m     <a href='vscode-notebook-cell:/e%3A/projects/python/calibrating-master/1.ipynb#Y124sZmlsZQ%3D%3D?line=43'>44</a>\u001b[0m initial_params \u001b[39m=\u001b[39m np\u001b[39m.\u001b[39mhstack((initial_R\u001b[39m.\u001b[39mflatten(), initial_t\u001b[39m.\u001b[39mflatten()))\n\u001b[0;32m     <a href='vscode-notebook-cell:/e%3A/projects/python/calibrating-master/1.ipynb#Y124sZmlsZQ%3D%3D?line=45'>46</a>\u001b[0m \u001b[39m# 使用 Levenberg-Marquardt 最小二乘法进行优化\u001b[39;00m\n\u001b[1;32m---> <a href='vscode-notebook-cell:/e%3A/projects/python/calibrating-master/1.ipynb#Y124sZmlsZQ%3D%3D?line=46'>47</a>\u001b[0m result \u001b[39m=\u001b[39m least_squares(objective, initial_params, method\u001b[39m=\u001b[39;49m\u001b[39m'\u001b[39;49m\u001b[39mlm\u001b[39;49m\u001b[39m'\u001b[39;49m)\n\u001b[0;32m     <a href='vscode-notebook-cell:/e%3A/projects/python/calibrating-master/1.ipynb#Y124sZmlsZQ%3D%3D?line=48'>49</a>\u001b[0m \u001b[39m# 提取优化后的 R 和 t\u001b[39;00m\n\u001b[0;32m     <a href='vscode-notebook-cell:/e%3A/projects/python/calibrating-master/1.ipynb#Y124sZmlsZQ%3D%3D?line=49'>50</a>\u001b[0m optimized_R \u001b[39m=\u001b[39m result\u001b[39m.\u001b[39mx[:\u001b[39m9\u001b[39m]\u001b[39m.\u001b[39mreshape(\u001b[39m3\u001b[39m, \u001b[39m3\u001b[39m)\n",
      "File \u001b[1;32me:\\Anaconda\\envs\\Calibrate\\lib\\site-packages\\scipy\\optimize\\_lsq\\least_squares.py:830\u001b[0m, in \u001b[0;36mleast_squares\u001b[1;34m(fun, x0, jac, bounds, method, ftol, xtol, gtol, x_scale, loss, f_scale, diff_step, tr_solver, tr_options, jac_sparsity, max_nfev, verbose, args, kwargs)\u001b[0m\n\u001b[0;32m    827\u001b[0m \u001b[39mif\u001b[39;00m method \u001b[39m==\u001b[39m \u001b[39m'\u001b[39m\u001b[39mtrf\u001b[39m\u001b[39m'\u001b[39m:\n\u001b[0;32m    828\u001b[0m     x0 \u001b[39m=\u001b[39m make_strictly_feasible(x0, lb, ub)\n\u001b[1;32m--> 830\u001b[0m f0 \u001b[39m=\u001b[39m fun_wrapped(x0)\n\u001b[0;32m    832\u001b[0m \u001b[39mif\u001b[39;00m f0\u001b[39m.\u001b[39mndim \u001b[39m!=\u001b[39m \u001b[39m1\u001b[39m:\n\u001b[0;32m    833\u001b[0m     \u001b[39mraise\u001b[39;00m \u001b[39mValueError\u001b[39;00m(\u001b[39m\"\u001b[39m\u001b[39m`fun` must return at most 1-d array_like. \u001b[39m\u001b[39m\"\u001b[39m\n\u001b[0;32m    834\u001b[0m                      \u001b[39m\"\u001b[39m\u001b[39mf0.shape: \u001b[39m\u001b[39m{0}\u001b[39;00m\u001b[39m\"\u001b[39m\u001b[39m.\u001b[39mformat(f0\u001b[39m.\u001b[39mshape))\n",
      "File \u001b[1;32me:\\Anaconda\\envs\\Calibrate\\lib\\site-packages\\scipy\\optimize\\_lsq\\least_squares.py:825\u001b[0m, in \u001b[0;36mleast_squares.<locals>.fun_wrapped\u001b[1;34m(x)\u001b[0m\n\u001b[0;32m    824\u001b[0m \u001b[39mdef\u001b[39;00m \u001b[39mfun_wrapped\u001b[39m(x):\n\u001b[1;32m--> 825\u001b[0m     \u001b[39mreturn\u001b[39;00m np\u001b[39m.\u001b[39matleast_1d(fun(x, \u001b[39m*\u001b[39;49margs, \u001b[39m*\u001b[39;49m\u001b[39m*\u001b[39;49mkwargs))\n",
      "\u001b[1;32me:\\projects\\python\\calibrating-master\\1.ipynb Cell 17\u001b[0m line \u001b[0;36m3\n\u001b[0;32m     <a href='vscode-notebook-cell:/e%3A/projects/python/calibrating-master/1.ipynb#Y124sZmlsZQ%3D%3D?line=30'>31</a>\u001b[0m R_t \u001b[39m=\u001b[39m np\u001b[39m.\u001b[39mhstack((R, t))\n\u001b[0;32m     <a href='vscode-notebook-cell:/e%3A/projects/python/calibrating-master/1.ipynb#Y124sZmlsZQ%3D%3D?line=31'>32</a>\u001b[0m \u001b[39mprint\u001b[39m( M1\u001b[39m.\u001b[39mshape , R_t\u001b[39m.\u001b[39mshape , obj_point\u001b[39m.\u001b[39mshape)\n\u001b[1;32m---> <a href='vscode-notebook-cell:/e%3A/projects/python/calibrating-master/1.ipynb#Y124sZmlsZQ%3D%3D?line=32'>33</a>\u001b[0m pixel_points_homogeneous \u001b[39m=\u001b[39m M1 \u001b[39m@\u001b[39;49m R_t \u001b[39m@\u001b[39;49m obj_point\u001b[39m.\u001b[39;49mT  \u001b[39m# (3, 54) 54是角点的数目\u001b[39;00m\n\u001b[0;32m     <a href='vscode-notebook-cell:/e%3A/projects/python/calibrating-master/1.ipynb#Y124sZmlsZQ%3D%3D?line=33'>34</a>\u001b[0m pixel_points_homogeneous \u001b[39m/\u001b[39m\u001b[39m=\u001b[39m (pixel_points_homogeneous[\u001b[39m2\u001b[39m, :] ) \u001b[39m+\u001b[39m \u001b[39m1e-7\u001b[39m\n\u001b[0;32m     <a href='vscode-notebook-cell:/e%3A/projects/python/calibrating-master/1.ipynb#Y124sZmlsZQ%3D%3D?line=35'>36</a>\u001b[0m \u001b[39m# 计算残差\u001b[39;00m\n",
      "\u001b[1;31mValueError\u001b[0m: matmul: Input operand 1 has a mismatch in its core dimension 0, with gufunc signature (n?,k),(k,m?)->(n?,m?) (size 3 is different from 4)"
     ]
    }
   ],
   "source": [
    "import numpy as np\n",
    "from scipy.optimize import least_squares\n",
    "\n",
    "# 已知的矩阵和向量\n",
    "focal_length_x, principal_point_x, focal_length_y, principal_point_y = 614.58492257      , 285.93832281, 627.17530595 , 243.47507507\n",
    "M1 = np.array([[focal_length_x, 0, principal_point_x],\n",
    "                [0, focal_length_y, principal_point_y],\n",
    "                [0, 0, 1]], \n",
    "                dtype=np.float64)\n",
    "\n",
    "''' \n",
    "畸变参数\n",
    "'''\n",
    "k1, k2, p1, p2, k3 = -0.01908289,  0.5028662,  -0.0132244, -0.00695192, -1.15783511\n",
    "dist = np.array([k1, k2, p1, p2, k3], dtype=np.float64)\n",
    "\n",
    "import numpy as np\n",
    "from scipy.optimize import least_squares\n",
    "\n",
    "# 初始估计的 R 和 t\n",
    "initial_R = np.eye(3)  # 初始估计为单位矩阵\n",
    "initial_t = np.zeros((3, 1))  # 初始估计为零向量\n",
    "\n",
    "P1_homo = np.hstack((img_point, np.ones((img_point.shape[0], 1))))\n",
    "# 优化目标函数\n",
    "def objective(params):\n",
    "    # 提取旋转矩阵 R 和平移向量 t\n",
    "    R = params[:9].reshape(3, 3)\n",
    "    t = params[9:].reshape(3, 1)\n",
    "\n",
    "    R_t = np.hstack((R, t))\n",
    "    print( M1.shape , R_t.shape , obj_point.shape)\n",
    "    pixel_points_homogeneous = M1 @ R_t @ obj_point.T  # (3, 54) 54是角点的数目\n",
    "    pixel_points_homogeneous /= (pixel_points_homogeneous[2, :] ) + 1e-7\n",
    "\n",
    "    # 计算残差\n",
    "    residuals = (pixel_points_homogeneous[:, :].T - P1_homo).flatten()\n",
    "    # residuals = (pixel_points_homogeneous[:2, :].T - img_point).flatten()\n",
    "    # print(residuals)\n",
    "\n",
    "    return residuals\n",
    "\n",
    "# 将 R 和 t 展平，用于传递给 least_squares\n",
    "initial_params = np.hstack((initial_R.flatten(), initial_t.flatten()))\n",
    "\n",
    "# 使用 Levenberg-Marquardt 最小二乘法进行优化\n",
    "result = least_squares(objective, initial_params, method='lm')\n",
    "\n",
    "# 提取优化后的 R 和 t\n",
    "optimized_R = result.x[:9].reshape(3, 3)\n",
    "optimized_t = result.x[9:].reshape(3, 1)\n",
    "\n",
    "print(\"优化后的 R:\\n\", optimized_R)\n",
    "print(\"优化后的 t:\\n\", optimized_t)"
   ]
  },
  {
   "cell_type": "markdown",
   "metadata": {},
   "source": [
    "### R 3个参数计算 1"
   ]
  },
  {
   "cell_type": "code",
   "execution_count": 4,
   "metadata": {},
   "outputs": [
    {
     "name": "stdout",
     "output_type": "stream",
     "text": [
      "Optimized Rotation Matrix R:\n",
      "[[-0.63195397]\n",
      " [ 0.15606969]\n",
      " [ 1.85168541]]\n",
      "Optimized Translation Vector t:\n",
      "[[ 478.77668588]\n",
      " [-441.11075362]\n",
      " [1605.77248075]]\n"
     ]
    }
   ],
   "source": [
    "import numpy as np\n",
    "# from scipy.optimize import least_squares\n",
    "from scipy.optimize import root\n",
    "\n",
    "# 已知的矩阵和向量\n",
    "focal_length_x, principal_point_x, focal_length_y, principal_point_y = 614.58492257      , 285.93832281, 627.17530595 , 243.47507507\n",
    "M1 = np.array([[focal_length_x, 0, principal_point_x],\n",
    "                [0, focal_length_y, principal_point_y],\n",
    "                [0, 0, 1]], \n",
    "                dtype=np.float64)\n",
    "\n",
    "def rotation_mtx(theta, axis = None):\n",
    "    cos_theta = np.cos(theta)\n",
    "    sin_theta = np.sin(theta)\n",
    "\n",
    "    if axis == 'z':\n",
    "        return np.array([[cos_theta, -sin_theta, 0],\n",
    "                  [sin_theta, cos_theta, 0],\n",
    "                  [0, 0, 1]])\n",
    "    elif axis == 'y':\n",
    "        return np.array([[cos_theta, 0, sin_theta],\n",
    "                  [0, 1, 0],\n",
    "                  [-sin_theta, 0, cos_theta]])\n",
    "    elif axis == 'x':\n",
    "        return np.array([[1, 0, 0],\n",
    "                  [0, cos_theta, -sin_theta],\n",
    "                  [0, sin_theta, cos_theta]])\n",
    "\n",
    "    return None\n",
    "\n",
    "\n",
    "# 定义目标函数\n",
    "def objective(params=None):\n",
    "    # 从参数中提取旋转矩阵R和平移向量t\n",
    "    if Rodrigues:\n",
    "        print('Rodrigues')\n",
    "        Rv = params[:3].reshape(-1, 1)\n",
    "        R,_ = cv2.Rodrigues(Rv)\n",
    "    else:\n",
    "        Rx, Ry, Rz = rotation_mtx(params[0], 'x'),rotation_mtx(params[1], 'y'),rotation_mtx(params[2], 'z')\n",
    "        R = Rx @ Ry @ Rz\n",
    "    t = params[3:].reshape(-1, 1)\n",
    "    # 计算P2 预测值\n",
    "    R_t = np.hstack((R, t))\n",
    "    P2_pred = M1 @ R_t @ P1  # (3, 54) 54是角点的数目\n",
    "    # print(P2_pred.shape)\n",
    "    P2_pred /= (P2_pred[2,:]) + 1\n",
    "\n",
    "    # 计算残差\n",
    "    residuals = (P2 - P2_pred )\n",
    "\n",
    "    # 返回残差\n",
    "    return residuals.T.flatten()\n",
    "\n",
    "from scipy.optimize import least_squares\n",
    "# 初始化参数\n",
    "Rotation_mtx_n = 3\n",
    "initial_params = np.zeros(Rotation_mtx_n + 3)  # 旋转矩阵R(3个参数) + 平移向量t(3个参数) \n",
    "Rodrigues = 0\n",
    "\n",
    "P1 = np.hstack((obj_point,np.ones((obj_point.shape[0], 1)))).T\n",
    "P2 = np.squeeze(img_point)\n",
    "# 把 P2也统一为齐次坐标\n",
    "P2 = np.hstack((P2, np.ones((P2.shape[0],1)))).T\n",
    "# 使用 least_squares 的 LM 算法 进行优化\n",
    "result = least_squares(objective, initial_params, method='lm')\n",
    "\n",
    "# 输出优化结果\n",
    "optimized_params = result.x\n",
    "R_optimized = optimized_params[:Rotation_mtx_n].reshape(-1,1)\n",
    "t_optimized = optimized_params[Rotation_mtx_n:].reshape(-1, 1)\n",
    "\n",
    "print(\"Optimized Rotation Matrix R:\")\n",
    "print(R_optimized)\n",
    "print(\"Optimized Translation Vector t:\")\n",
    "print(t_optimized)"
   ]
  },
  {
   "cell_type": "code",
   "execution_count": 8,
   "metadata": {},
   "outputs": [
    {
     "name": "stdout",
     "output_type": "stream",
     "text": [
      "(3, 54)\n"
     ]
    },
    {
     "data": {
      "image/png": "[encoded data removed]",
      "text/plain": [
       "<Figure size 800x300 with 2 Axes>"
      ]
     },
     "metadata": {},
     "output_type": "display_data"
    }
   ],
   "source": [
    "# 验证一下转换的效果\n",
    "# 计算P2 预测值\n",
    "R_optimized = np.squeeze(R_optimized)\n",
    "if Rodrigues:\n",
    "    print('Rodrigues')\n",
    "    Rv = R_optimized[:3].reshape(-1, 1)\n",
    "    R,_ = cv2.Rodrigues(Rv)\n",
    "else:\n",
    "    Rx, Ry, Rz = rotation_mtx(R_optimized[0], 'x'),rotation_mtx(R_optimized[1], 'y'),rotation_mtx(R_optimized[2], 'z')\n",
    "    R = Rx @ Ry @ Rz\n",
    "R_t = np.hstack((R, t_optimized))\n",
    "P2_pred = M1 @ R_t @ P1  # (3, 54) 54是角点的数目\n",
    "P2_pred = P2_pred\n",
    "print(P2_pred.shape)\n",
    "P2_pred /= (P2_pred[2,:])\n",
    "''' 等价于下面的形式 '''\n",
    "# for i in range(len(P2_pred[0])):\n",
    "#         P2_pred[0][i] /= P2_pred[2][i] +1\n",
    "#         P2_pred[1][i] /= P2_pred[2][i] +1\n",
    "#         P2_pred[2][i] = 1\n",
    "fig, axs = plt.subplots(1, 2, figsize=(8,3))\n",
    "axs[0].scatter(P2_pred[0,:],P2_pred[1,:])\n",
    "axs[1].scatter(img_point[:n_points,0], img_point[:n_points,1])\n",
    "plt.show()"
   ]
  },
  {
   "cell_type": "markdown",
   "metadata": {},
   "source": [
    "### R 3个参数计算 2"
   ]
  },
  {
   "cell_type": "code",
   "execution_count": 15,
   "metadata": {},
   "outputs": [
    {
     "name": "stdout",
     "output_type": "stream",
     "text": [
      "[0. 0. 0. 0. 0. 0.]\n",
      "(3, 54)\n",
      "(3, 54)\n",
      "(3, 54)\n",
      "(3, 54)\n",
      "(3, 54)\n",
      "(3, 54)\n",
      "(3, 54)\n",
      "(3, 54)\n",
      "(3, 54)\n",
      "(3, 54)\n",
      "(3, 54)\n",
      "(3, 54)\n",
      "(3, 54)\n",
      "(3, 54)\n",
      "(3, 54)\n",
      "(3, 54)\n",
      "(3, 54)\n",
      "(3, 54)\n",
      "(3, 54)\n",
      "(3, 54)\n",
      "(3, 54)\n",
      "(3, 54)\n",
      "(3, 54)\n",
      "(3, 54)\n",
      "(3, 54)\n",
      "(3, 54)\n",
      "(3, 54)\n",
      "(3, 54)\n",
      "(3, 54)\n",
      "(3, 54)\n",
      "(3, 54)\n",
      "(3, 54)\n",
      "(3, 54)\n",
      "(3, 54)\n",
      "(3, 54)\n",
      "(3, 54)\n",
      "(3, 54)\n",
      "(3, 54)\n",
      "(3, 54)\n",
      "(3, 54)\n",
      "(3, 54)\n",
      "(3, 54)\n",
      "(3, 54)\n",
      "(3, 54)\n",
      "(3, 54)\n",
      "(3, 54)\n",
      "(3, 54)\n",
      "(3, 54)\n",
      "(3, 54)\n",
      "(3, 54)\n",
      "(3, 54)\n",
      "(3, 54)\n",
      "(3, 54)\n",
      "(3, 54)\n",
      "(3, 54)\n",
      "(3, 54)\n",
      "(3, 54)\n",
      "(3, 54)\n",
      "(3, 54)\n",
      "(3, 54)\n",
      "(3, 54)\n",
      "(3, 54)\n",
      "(3, 54)\n",
      "(3, 54)\n",
      "(3, 54)\n",
      "(3, 54)\n",
      "(3, 54)\n",
      "(3, 54)\n",
      "(3, 54)\n",
      "(3, 54)\n",
      "(3, 54)\n",
      "(3, 54)\n",
      "(3, 54)\n",
      "(3, 54)\n",
      "(3, 54)\n",
      "(3, 54)\n",
      "(3, 54)\n",
      "(3, 54)\n",
      "(3, 54)\n",
      "(3, 54)\n",
      "(3, 54)\n",
      "(3, 54)\n",
      "(3, 54)\n",
      "(3, 54)\n",
      "(3, 54)\n",
      "(3, 54)\n",
      "(3, 54)\n",
      "(3, 54)\n",
      "(3, 54)\n",
      "(3, 54)\n",
      "(3, 54)\n",
      "(3, 54)\n",
      "(3, 54)\n",
      "(3, 54)\n",
      "(3, 54)\n",
      "(3, 54)\n",
      "(3, 54)\n",
      "(3, 54)\n",
      "(3, 54)\n",
      "(3, 54)\n",
      "(3, 54)\n",
      "(3, 54)\n",
      "(3, 54)\n",
      "(3, 54)\n",
      "(3, 54)\n",
      "(3, 54)\n",
      "(3, 54)\n",
      "(3, 54)\n",
      "(3, 54)\n",
      "(3, 54)\n",
      "(3, 54)\n",
      "(3, 54)\n",
      "(3, 54)\n",
      "(3, 54)\n",
      "(3, 54)\n",
      "(3, 54)\n",
      "(3, 54)\n",
      "(3, 54)\n",
      "(3, 54)\n",
      "(3, 54)\n",
      "(3, 54)\n",
      "(3, 54)\n",
      "(3, 54)\n",
      "(3, 54)\n",
      "(3, 54)\n",
      "(3, 54)\n",
      "(3, 54)\n",
      "(3, 54)\n",
      "(3, 54)\n",
      "(3, 54)\n",
      "(3, 54)\n",
      "(3, 54)\n",
      "(3, 54)\n",
      "(3, 54)\n",
      "(3, 54)\n",
      "(3, 54)\n",
      "(3, 54)\n",
      "(3, 54)\n",
      "(3, 54)\n",
      "(3, 54)\n",
      "(3, 54)\n",
      "(3, 54)\n",
      "(3, 54)\n",
      "(3, 54)\n",
      "(3, 54)\n",
      "(3, 54)\n",
      "(3, 54)\n",
      "(3, 54)\n",
      "(3, 54)\n",
      "(3, 54)\n",
      "(3, 54)\n",
      "(3, 54)\n",
      "(3, 54)\n",
      "(3, 54)\n",
      "(3, 54)\n",
      "(3, 54)\n",
      "(3, 54)\n",
      "(3, 54)\n",
      "(3, 54)\n",
      "(3, 54)\n",
      "(3, 54)\n",
      "(3, 54)\n",
      "(3, 54)\n",
      "(3, 54)\n",
      "(3, 54)\n",
      "(3, 54)\n",
      "(3, 54)\n",
      "(3, 54)\n",
      "(3, 54)\n",
      "(3, 54)\n",
      "(3, 54)\n",
      "(3, 54)\n",
      "(3, 54)\n",
      "(3, 54)\n",
      "(3, 54)\n",
      "(3, 54)\n",
      "(3, 54)\n",
      "(3, 54)\n",
      "(3, 54)\n",
      "(3, 54)\n",
      "(3, 54)\n",
      "(3, 54)\n",
      "(3, 54)\n",
      "(3, 54)\n",
      "(3, 54)\n",
      "(3, 54)\n",
      "(3, 54)\n",
      "(3, 54)\n",
      "(3, 54)\n",
      "(3, 54)\n",
      "(3, 54)\n",
      "(3, 54)\n",
      "(3, 54)\n",
      "(3, 54)\n",
      "(3, 54)\n",
      "(3, 54)\n",
      "(3, 54)\n",
      "(3, 54)\n",
      "(3, 54)\n",
      "(3, 54)\n",
      "(3, 54)\n",
      "(3, 54)\n",
      "(3, 54)\n",
      "(3, 54)\n",
      "(3, 54)\n",
      "(3, 54)\n",
      "(3, 54)\n",
      "(3, 54)\n",
      "(3, 54)\n",
      "(3, 54)\n",
      "(3, 54)\n",
      "(3, 54)\n",
      "(3, 54)\n",
      "(3, 54)\n",
      "(3, 54)\n",
      "(3, 54)\n",
      "(3, 54)\n",
      "(3, 54)\n",
      "(3, 54)\n",
      "(3, 54)\n",
      "(3, 54)\n",
      "(3, 54)\n",
      "(3, 54)\n",
      "(3, 54)\n",
      "(3, 54)\n",
      "(3, 54)\n",
      "(3, 54)\n",
      "(3, 54)\n",
      "(3, 54)\n",
      "(3, 54)\n",
      "(3, 54)\n",
      "(3, 54)\n",
      "(3, 54)\n",
      "(3, 54)\n",
      "(3, 54)\n",
      "(3, 54)\n",
      "(3, 54)\n",
      "(3, 54)\n",
      "(3, 54)\n",
      "(3, 54)\n",
      "(3, 54)\n",
      "(3, 54)\n",
      "(3, 54)\n",
      "(3, 54)\n",
      "(3, 54)\n",
      "(3, 54)\n",
      "(3, 54)\n",
      "(3, 54)\n",
      "(3, 54)\n",
      "(3, 54)\n",
      "(3, 54)\n",
      "(3, 54)\n",
      "(3, 54)\n",
      "(3, 54)\n",
      "(3, 54)\n",
      "(3, 54)\n",
      "(3, 54)\n",
      "(3, 54)\n",
      "(3, 54)\n",
      "(3, 54)\n",
      "(3, 54)\n",
      "(3, 54)\n",
      "(3, 54)\n",
      "(3, 54)\n",
      "(3, 54)\n",
      "(3, 54)\n",
      "(3, 54)\n",
      "(3, 54)\n",
      "(3, 54)\n",
      "(3, 54)\n",
      "(3, 54)\n",
      "(3, 54)\n",
      "(3, 54)\n",
      "(3, 54)\n",
      "(3, 54)\n",
      "(3, 54)\n",
      "(3, 54)\n",
      "(3, 54)\n",
      "(3, 54)\n",
      "(3, 54)\n",
      "(3, 54)\n",
      "(3, 54)\n",
      "(3, 54)\n",
      "(3, 54)\n",
      "(3, 54)\n",
      "(3, 54)\n",
      "(3, 54)\n",
      "(3, 54)\n",
      "(3, 54)\n",
      "(3, 54)\n",
      "(3, 54)\n",
      "(3, 54)\n",
      "(3, 54)\n",
      "(3, 54)\n",
      "(3, 54)\n",
      "(3, 54)\n",
      "(3, 54)\n",
      "(3, 54)\n",
      "(3, 54)\n",
      "(3, 54)\n",
      "(3, 54)\n",
      "(3, 54)\n",
      "(3, 54)\n",
      "(3, 54)\n",
      "(3, 54)\n",
      "(3, 54)\n",
      "(3, 54)\n",
      "(3, 54)\n",
      "(3, 54)\n",
      "(3, 54)\n",
      "(3, 54)\n",
      "(3, 54)\n",
      "(3, 54)\n",
      "(3, 54)\n",
      "(3, 54)\n",
      "(3, 54)\n",
      "(3, 54)\n",
      "(3, 54)\n",
      "(3, 54)\n",
      "(3, 54)\n",
      "(3, 54)\n",
      "(3, 54)\n",
      "(3, 54)\n",
      "(3, 54)\n",
      "(3, 54)\n",
      "(3, 54)\n",
      "(3, 54)\n",
      "(3, 54)\n",
      "(3, 54)\n",
      "(3, 54)\n",
      "(3, 54)\n",
      "(3, 54)\n",
      "(3, 54)\n",
      "(3, 54)\n",
      "(3, 54)\n",
      "(3, 54)\n",
      "(3, 54)\n",
      "(3, 54)\n",
      "(3, 54)\n",
      "(3, 54)\n",
      "(3, 54)\n",
      "(3, 54)\n",
      "(3, 54)\n",
      "(3, 54)\n",
      "(3, 54)\n",
      "(3, 54)\n",
      "(3, 54)\n",
      "(3, 54)\n",
      "(3, 54)\n",
      "(3, 54)\n",
      "(3, 54)\n",
      "(3, 54)\n",
      "(3, 54)\n",
      "(3, 54)\n",
      "(3, 54)\n",
      "(3, 54)\n",
      "(3, 54)\n",
      "(3, 54)\n",
      "(3, 54)\n",
      "(3, 54)\n",
      "(3, 54)\n",
      "(3, 54)\n",
      "(3, 54)\n",
      "(3, 54)\n",
      "(3, 54)\n",
      "(3, 54)\n",
      "(3, 54)\n",
      "(3, 54)\n",
      "(3, 54)\n",
      "(3, 54)\n",
      "(3, 54)\n",
      "(3, 54)\n",
      "(3, 54)\n",
      "(3, 54)\n",
      "(3, 54)\n",
      "(3, 54)\n",
      "(3, 54)\n",
      "(3, 54)\n",
      "(3, 54)\n",
      "(3, 54)\n",
      "(3, 54)\n",
      "(3, 54)\n",
      "(3, 54)\n",
      "(3, 54)\n",
      "(3, 54)\n",
      "(3, 54)\n",
      "(3, 54)\n",
      "(3, 54)\n",
      "(3, 54)\n",
      "(3, 54)\n",
      "(3, 54)\n",
      "(3, 54)\n",
      "(3, 54)\n",
      "(3, 54)\n",
      "(3, 54)\n",
      "(3, 54)\n",
      "(3, 54)\n",
      "(3, 54)\n",
      "(3, 54)\n",
      "(3, 54)\n",
      "(3, 54)\n",
      "(3, 54)\n",
      "(3, 54)\n",
      "(3, 54)\n",
      "(3, 54)\n",
      "(3, 54)\n",
      "(3, 54)\n",
      "(3, 54)\n",
      "(3, 54)\n",
      "(3, 54)\n",
      "(3, 54)\n",
      "(3, 54)\n",
      "(3, 54)\n",
      "(3, 54)\n",
      "(3, 54)\n",
      "(3, 54)\n",
      "(3, 54)\n",
      "(3, 54)\n",
      "(3, 54)\n",
      "(3, 54)\n",
      "(3, 54)\n",
      "(3, 54)\n",
      "(3, 54)\n",
      "(3, 54)\n",
      "(3, 54)\n",
      "(3, 54)\n",
      "(3, 54)\n",
      "(3, 54)\n",
      "(3, 54)\n",
      "(3, 54)\n",
      "(3, 54)\n",
      "(3, 54)\n",
      "(3, 54)\n",
      "(3, 54)\n",
      "(3, 54)\n",
      "(3, 54)\n",
      "(3, 54)\n",
      "(3, 54)\n",
      "(3, 54)\n",
      "(3, 54)\n",
      "(3, 54)\n",
      "(3, 54)\n",
      "(3, 54)\n",
      "(3, 54)\n",
      "(3, 54)\n",
      "(3, 54)\n",
      "(3, 54)\n",
      "(3, 54)\n",
      "(3, 54)\n",
      "(3, 54)\n",
      "(3, 54)\n",
      "(3, 54)\n",
      "(3, 54)\n",
      "(3, 54)\n",
      "(3, 54)\n",
      "(3, 54)\n",
      "(3, 54)\n",
      "(3, 54)\n",
      "(3, 54)\n",
      "(3, 54)\n",
      "(3, 54)\n",
      "(3, 54)\n",
      "(3, 54)\n",
      "(3, 54)\n",
      "(3, 54)\n",
      "(3, 54)\n",
      "(3, 54)\n",
      "(3, 54)\n",
      "(3, 54)\n",
      "(3, 54)\n",
      "(3, 54)\n",
      "(3, 54)\n",
      "(3, 54)\n",
      "(3, 54)\n",
      "(3, 54)\n",
      "(3, 54)\n",
      "(3, 54)\n",
      "(3, 54)\n",
      "(3, 54)\n",
      "(3, 54)\n",
      "(3, 54)\n",
      "(3, 54)\n",
      "(3, 54)\n",
      "(3, 54)\n",
      "(3, 54)\n",
      "(3, 54)\n",
      "(3, 54)\n",
      "(3, 54)\n",
      "(3, 54)\n",
      "优化后的 R:\n",
      " [[-0.29581378]\n",
      " [ 0.68025737]\n",
      " [ 1.72953855]]\n",
      "优化后的 t:\n",
      " [[ 478.77668589]\n",
      " [-441.11075365]\n",
      " [1605.77248066]]\n"
     ]
    }
   ],
   "source": [
    "import numpy as np\n",
    "from scipy.optimize import least_squares\n",
    "\n",
    "# 已知的矩阵和向量\n",
    "focal_length_x, principal_point_x, focal_length_y, principal_point_y = 614.58492257      , 285.93832281, 627.17530595 , 243.47507507\n",
    "M1 = np.array([[focal_length_x, 0, principal_point_x],\n",
    "                [0, focal_length_y, principal_point_y],\n",
    "                [0, 0, 1]], \n",
    "                dtype=np.float64)\n",
    "''' \n",
    "畸变参数\n",
    "'''\n",
    "k1, k2, p1, p2, k3 = -0.01908289,  0.5028662,  -0.0132244, -0.00695192, -1.15783511\n",
    "dist = np.array([k1, k2, p1, p2, k3], dtype=np.float64)\n",
    "\n",
    "import numpy as np\n",
    "from scipy.optimize import least_squares\n",
    "\n",
    "# 初始估计的 R 和 t\n",
    "initial_R = np.zeros(3)  # 初始估计为 0 向量\n",
    "# initial_R = np.eye(3)\n",
    "initial_t = np.zeros((3, 1))  # 初始估计为零向量\n",
    "\n",
    "P1_homo = np.hstack((img_point, np.ones((img_point.shape[0], 1))))\n",
    "# 优化目标函数\n",
    "def objective(params):\n",
    "    # 提取旋转矩阵 R 和平移向量 t\n",
    "    # R = params[:9].reshape(3, 3)\n",
    "    Rv = params[:3].reshape(-1, 1)\n",
    "    R,_ = cv2.Rodrigues(Rv)\n",
    "    t = params[3:].reshape(3, 1)\n",
    "\n",
    "    # 相机坐标转换\n",
    "    camera_points = np.dot(R, obj_point.T).T + t.T\n",
    "\n",
    "    # 投影到像素坐标系\n",
    "    pixel_points_homogeneous = np.dot(M1, camera_points.T)\n",
    "    # print(pixel_points_homogeneous.shape)----(3, 54)\n",
    "    pixel_points_homogeneous /= (pixel_points_homogeneous[2, :] ) + 1\n",
    "\n",
    "    # 计算残差\n",
    "    residuals = (pixel_points_homogeneous[:, :].T - P1_homo).flatten()\n",
    "    # print(residuals)\n",
    "\n",
    "    return residuals\n",
    "\n",
    "# 将 R 和 t 展平，用于传递给 least_squares\n",
    "initial_params = np.hstack((initial_R.flatten(), initial_t.flatten()))\n",
    "print(initial_params)\n",
    "\n",
    "# 使用 Levenberg-Marquardt 最小二乘法进行优化\n",
    "result = least_squares(objective, initial_params, method='lm')\n",
    "\n",
    "# 提取优化后的 R 和 t\n",
    "# optimized_R = result.x[:9].reshape(3, 3)\n",
    "optimized_R = result.x[:3].reshape(3, 1)\n",
    "optimized_t = result.x[3:].reshape(3, 1)\n",
    "\n",
    "print(\"优化后的 R:\\n\", optimized_R)\n",
    "print(\"优化后的 t:\\n\", optimized_t)"
   ]
  },
  {
   "cell_type": "code",
   "execution_count": 11,
   "metadata": {},
   "outputs": [
    {
     "ename": "ValueError",
     "evalue": "too many values to unpack (expected 2)",
     "output_type": "error",
     "traceback": [
      "\u001b[1;31m---------------------------------------------------------------------------\u001b[0m",
      "\u001b[1;31mValueError\u001b[0m                                Traceback (most recent call last)",
      "\u001b[1;32me:\\projects\\python\\calibrating-master\\1.ipynb Cell 25\u001b[0m line \u001b[0;36m1\n\u001b[1;32m----> <a href='vscode-notebook-cell:/e%3A/projects/python/calibrating-master/1.ipynb#X66sZmlsZQ%3D%3D?line=0'>1</a>\u001b[0m R,_ \u001b[39m=\u001b[39m optimized_R\n\u001b[0;32m      <a href='vscode-notebook-cell:/e%3A/projects/python/calibrating-master/1.ipynb#X66sZmlsZQ%3D%3D?line=1'>2</a>\u001b[0m t \u001b[39m=\u001b[39m optimized_t\n\u001b[0;32m      <a href='vscode-notebook-cell:/e%3A/projects/python/calibrating-master/1.ipynb#X66sZmlsZQ%3D%3D?line=2'>3</a>\u001b[0m R_t \u001b[39m=\u001b[39m np\u001b[39m.\u001b[39mhstack((R,t))\n",
      "\u001b[1;31mValueError\u001b[0m: too many values to unpack (expected 2)"
     ]
    }
   ],
   "source": [
    "R,_ = optimized_R\n",
    "t = optimized_t\n",
    "R_t = np.hstack((R,t))\n",
    "P1_homo = np.hstack((obj_point, np.ones((obj_point.shape[0],1))))\n",
    "P2_pred_cv2 = M1 @ R_t @ P1_homo.T  # (3, 54) 54是角点的数目\n",
    "P2_pred = P2_pred_cv2.T\n",
    "# P2_pred /= (P2_pred[:,2])\n",
    "for i in range(len(P2_pred)):\n",
    "    P2_pred[i][0] /= P2_pred[i][2]\n",
    "    P2_pred[i][1] /= P2_pred[i][2]\n",
    "plt.scatter(P2_pred[:,0],P2_pred[:,1])"
   ]
  },
  {
   "cell_type": "markdown",
   "metadata": {},
   "source": [
    "### 正确的结果"
   ]
  },
  {
   "cell_type": "code",
   "execution_count": 166,
   "metadata": {},
   "outputs": [
    {
     "data": {
      "text/plain": [
       "<matplotlib.collections.PathCollection at 0x1b61fe37d90>"
      ]
     },
     "execution_count": 166,
     "metadata": {},
     "output_type": "execute_result"
    },
    {
     "data": {
      "image/png": "[encoded data removed]",
      "text/plain": [
       "<Figure size 640x480 with 1 Axes>"
      ]
     },
     "metadata": {},
     "output_type": "display_data"
    }
   ],
   "source": [
    "R,_ = cv2.Rodrigues( np.array([[-0.32175744],\n",
    "        [ 0.68734474],\n",
    "        [ 1.72705302]]))\n",
    "t = np.array([[ 478.92737072],\n",
    "        [-432.76674263],\n",
    "        [1613.39348158]])\n",
    "R_t = np.hstack((R,t))\n",
    "P1_homo = np.hstack((obj_point, np.ones((obj_point.shape[0],1))))\n",
    "P2_pred_cv2 = M1 @ R_t @ P1_homo.T  # (3, 54) 54是角点的数目\n",
    "P2_pred = P2_pred_cv2.T\n",
    "# P2_pred /= (P2_pred[:,2])\n",
    "for i in range(len(P2_pred)):\n",
    "    P2_pred[i][0] /= P2_pred[i][2]\n",
    "    P2_pred[i][1] /= P2_pred[i][2]\n",
    "plt.scatter(P2_pred[:,0],P2_pred[:,1])"
   ]
  },
  {
   "cell_type": "markdown",
   "metadata": {},
   "source": [
    "## 实验一下 LM可行不可行\n",
    "实验证明是可以的，那为什么上面算外参的就不行呢？\n",
    "ANS: 计算像素坐标时没有除以z坐标,即 P2_pred /= P2_pred[2,:]"
   ]
  },
  {
   "cell_type": "code",
   "execution_count": 18,
   "metadata": {},
   "outputs": [
    {
     "data": {
      "image/png": "[encoded data removed]",
      "text/plain": [
       "<Figure size 640x480 with 1 Axes>"
      ]
     },
     "metadata": {},
     "output_type": "display_data"
    },
    {
     "data": {
      "text/plain": [
       "array([[0, 1, 0, 1],\n",
       "       [0, 0, 1, 1]])"
      ]
     },
     "execution_count": 18,
     "metadata": {},
     "output_type": "execute_result"
    }
   ],
   "source": [
    "point = (np.mgrid[:2,:2].T.reshape(-1,2)).T\n",
    "plt.scatter(point[0,:], point[1,:])\n",
    "plt.show()\n",
    "point"
   ]
  },
  {
   "cell_type": "markdown",
   "metadata": {},
   "source": [
    "##### 一个参数"
   ]
  },
  {
   "cell_type": "code",
   "execution_count": 19,
   "metadata": {},
   "outputs": [
    {
     "data": {
      "text/plain": [
       "<matplotlib.collections.PathCollection at 0x1b61ded3d30>"
      ]
     },
     "execution_count": 19,
     "metadata": {},
     "output_type": "execute_result"
    },
    {
     "data": {
      "image/png": "[encoded data removed]",
      "text/plain": [
       "<Figure size 640x480 with 1 Axes>"
      ]
     },
     "metadata": {},
     "output_type": "display_data"
    }
   ],
   "source": [
    "theta = 0.25 * np.pi\n",
    "param = 0\n",
    "def R(theta):\n",
    "    cos_theta = np.cos(theta)\n",
    "    sin_theta = np.sin(theta)\n",
    "\n",
    "    A = np.array([[cos_theta, -sin_theta],\n",
    "                [sin_theta, cos_theta]\n",
    "                ])\n",
    "    return A\n",
    "\n",
    "new_point = R(theta) @ point\n",
    "plt.scatter(new_point[0, :], new_point[1, :])"
   ]
  },
  {
   "cell_type": "code",
   "execution_count": 75,
   "metadata": {},
   "outputs": [
    {
     "data": {
      "text/plain": [
       "array([0.35])"
      ]
     },
     "execution_count": 75,
     "metadata": {},
     "output_type": "execute_result"
    }
   ],
   "source": [
    "theta = 0.35 * np.pi\n",
    "param = np.array([0])\n",
    "def R(theta):\n",
    "    cos_theta = np.cos(theta)\n",
    "    sin_theta = np.sin(theta)\n",
    "\n",
    "    A = np.array([[cos_theta, -sin_theta],\n",
    "                [sin_theta, cos_theta]\n",
    "                ])\n",
    "    return A\n",
    "\n",
    "Point_true = R(theta) @ point\n",
    "\n",
    "def objective(param):\n",
    "    R_pred = R(param[0])\n",
    "    Point_pred = R_pred @ point\n",
    "    return (Point_true - Point_pred).flatten()\n",
    "\n",
    "result = root(objective, param, method='lm')\n",
    "result.x/np.pi"
   ]
  },
  {
   "cell_type": "markdown",
   "metadata": {},
   "source": [
    "##### 3个参数"
   ]
  },
  {
   "cell_type": "code",
   "execution_count": 30,
   "metadata": {},
   "outputs": [
    {
     "data": {
      "text/plain": [
       "array([[0, 0],\n",
       "       [1, 0],\n",
       "       [0, 1],\n",
       "       [1, 1]])"
      ]
     },
     "execution_count": 30,
     "metadata": {},
     "output_type": "execute_result"
    }
   ],
   "source": [
    "point.T"
   ]
  },
  {
   "cell_type": "code",
   "execution_count": 43,
   "metadata": {},
   "outputs": [
    {
     "data": {
      "text/plain": [
       "array([[0., 1., 0., 1.],\n",
       "       [0., 0., 1., 1.],\n",
       "       [1., 1., 1., 1.]])"
      ]
     },
     "execution_count": 43,
     "metadata": {},
     "output_type": "execute_result"
    }
   ],
   "source": [
    "point_3d = np.hstack((point.T, np.ones((point.shape[1],1))))\n",
    "point_3d.T"
   ]
  },
  {
   "cell_type": "code",
   "execution_count": 44,
   "metadata": {},
   "outputs": [
    {
     "data": {
      "text/plain": [
       "array([[ 0.14173219, -0.13058032, -0.80998095, -1.08229345],\n",
       "       [ 0.59926185,  1.38809809,  0.46279712,  1.25163336],\n",
       "       [ 0.78790686,  0.23692294,  1.06289684,  0.51191292]])"
      ]
     },
     "execution_count": 44,
     "metadata": {},
     "output_type": "execute_result"
    }
   ],
   "source": [
    "rvec_true = np.array([[-0.32175744],\n",
    "        [ 0.68734474],\n",
    "        [ 1.72705302]])\n",
    "Point_true = cv2.Rodrigues(rvec_true)[0] @ point_3d.T\n",
    "Point_true"
   ]
  },
  {
   "cell_type": "code",
   "execution_count": 68,
   "metadata": {},
   "outputs": [
    {
     "data": {
      "text/plain": [
       "array([-0.32175744,  0.68734474,  1.72705302])"
      ]
     },
     "execution_count": 68,
     "metadata": {},
     "output_type": "execute_result"
    }
   ],
   "source": [
    "rvec_true = np.array([[-0.32175744],\n",
    "        [ 0.68734474],\n",
    "        [ 1.72705302]])\n",
    "Point_true = cv2.Rodrigues(rvec_true)[0] @ point_3d.T\n",
    "\n",
    "rvec_param = np.array([0.,0.,0.]).reshape(-1,1)\n",
    "def objective(param):\n",
    "    R_pred,_ = cv2.Rodrigues(param)\n",
    "    # print(R_pred.shape,point_3d.T.shape)\n",
    "    Point_pred = R_pred @ (point_3d.T)\n",
    "    return (Point_true - Point_pred).flatten()\n",
    "\n",
    "result = root(objective, rvec_param, method='lm')\n",
    "result.x"
   ]
  },
  {
   "cell_type": "markdown",
   "metadata": {},
   "source": [
    "# 与OpenCV计算的内外参 进行对比"
   ]
  },
  {
   "cell_type": "code",
   "execution_count": 28,
   "metadata": {},
   "outputs": [
    {
     "data": {
      "text/plain": [
       "(array([[-0.30875434],\n",
       "        [ 0.68396816],\n",
       "        [ 1.72825717]]),\n",
       " array([[ 478.66033277],\n",
       "        [-437.13791101],\n",
       "        [1610.18174689]]))"
      ]
     },
     "execution_count": 28,
     "metadata": {},
     "output_type": "execute_result"
    }
   ],
   "source": [
    "P1 = np.squeeze(obj_point)\n",
    "P2 = np.squeeze(img_point)\n",
    "# 默认使用 cv2.SOLVEPNP_ITERATIVE 方法\n",
    "ret, rvec, tvec = cv2.solvePnP(P1, P2, mtx, dist, flags=cv2.SOLVEPNP_ITERATIVE)\n",
    "rvec, tvec\n",
    "# cv2.Rodrigues(rvec)[0], tvec\n",
    "# len(img_points)"
   ]
  }
 ],
 "metadata": {
  "kernelspec": {
   "display_name": "Calibrate",
   "language": "python",
   "name": "python3"
  },
  "language_info": {
   "codemirror_mode": {
    "name": "ipython",
    "version": 3
   },
   "file_extension": ".py",
   "mimetype": "text/x-python",
   "name": "python",
   "nbconvert_exporter": "python",
   "pygments_lexer": "ipython3",
   "version": "3.8.18"
  }
 },
 "nbformat": 4,
 "nbformat_minor": 2
}
